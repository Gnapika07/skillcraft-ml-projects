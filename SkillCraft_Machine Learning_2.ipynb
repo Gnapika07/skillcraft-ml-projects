{
 "cells": [
  {
   "cell_type": "markdown",
   "id": "d6ba0a27",
   "metadata": {},
   "source": [
    "# 🧪 Task 2: Customer Segmentation using K-Means Clustering\n",
    "\n",
    "This project demonstrates how to use K-Means Clustering to group customers based on features like age, income, and spending score."
   ]
  },
  {
   "cell_type": "code",
   "execution_count": null,
   "id": "ecdb015b",
   "metadata": {},
   "outputs": [],
   "source": [
    "# 📦 Step 1: Import Required Libraries\n",
    "import pandas as pd\n",
    "import matplotlib.pyplot as plt\n",
    "import seaborn as sns\n",
    "from sklearn.cluster import KMeans"
   ]
  },
  {
   "cell_type": "code",
   "execution_count": null,
   "id": "c7d11416",
   "metadata": {},
   "outputs": [],
   "source": [
    "# 📊 Step 2: Create a Sample Customer Dataset\n",
    "data = {\n",
    "    'CustomerID': [1, 2, 3, 4, 5, 6, 7, 8, 9, 10],\n",
    "    'Age': [23, 45, 31, 35, 52, 46, 22, 28, 40, 36],\n",
    "    'Annual Income (k$)': [15, 40, 30, 60, 65, 70, 20, 25, 55, 50],\n",
    "    'Spending Score (1-100)': [39, 81, 6, 77, 40, 80, 76, 6, 50, 60]\n",
    "}\n",
    "\n",
    "df = pd.DataFrame(data)\n",
    "df"
   ]
  },
  {
   "cell_type": "code",
   "execution_count": null,
   "id": "0242dd84",
   "metadata": {},
   "outputs": [],
   "source": [
    "# 🧹 Step 3: Prepare Data for Clustering\n",
    "X = df[['Age', 'Annual Income (k$)', 'Spending Score (1-100)']]"
   ]
  },
  {
   "cell_type": "code",
   "execution_count": null,
   "id": "a02e1d38",
   "metadata": {},
   "outputs": [],
   "source": [
    "# 🤖 Step 4: Apply K-Means Clustering\n",
    "kmeans = KMeans(n_clusters=3, random_state=42)\n",
    "df['Cluster'] = kmeans.fit_predict(X)\n",
    "df"
   ]
  },
  {
   "cell_type": "code",
   "execution_count": null,
   "id": "1d7ca58d",
   "metadata": {},
   "outputs": [],
   "source": [
    "# 📊 Step 5: Visualize Clusters (Age vs Spending Score)\n",
    "plt.figure(figsize=(8, 6))\n",
    "sns.scatterplot(data=df, x='Age', y='Spending Score (1-100)', hue='Cluster', palette='Set1', s=100)\n",
    "plt.title(\"Customer Segments based on Age and Spending Score\")\n",
    "plt.xlabel(\"Age\")\n",
    "plt.ylabel(\"Spending Score (1-100)\")\n",
    "plt.grid(True)\n",
    "plt.tight_layout()\n",
    "plt.show()"
   ]
  }
 ],
 "metadata": {},
 "nbformat": 4,
 "nbformat_minor": 5
}