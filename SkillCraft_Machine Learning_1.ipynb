{
 "cells": [
  {
   "cell_type": "markdown",
   "id": "9ed184b5",
   "metadata": {},
   "source": [
    "# 🏠 Task 1: House Price Prediction Using Linear Regression\n",
    "\n",
    "This project uses a simple Linear Regression model to predict house prices based on the number of bedrooms, bathrooms, and house size."
   ]
  },
  {
   "cell_type": "code",
   "execution_count": null,
   "id": "2e3132f6",
   "metadata": {},
   "outputs": [],
   "source": [
    "# 📦 Step 1: Import Required Libraries\n",
    "import pandas as pd\n",
    "import matplotlib.pyplot as plt\n",
    "from sklearn.linear_model import LinearRegression\n",
    "from sklearn.model_selection import train_test_split\n",
    "from sklearn.metrics import mean_squared_error"
   ]
  },
  {
   "cell_type": "code",
   "execution_count": null,
   "id": "4066f68c",
   "metadata": {},
   "outputs": [],
   "source": [
    "# 📊 Step 2: Create the Dataset\n",
    "data = {\n",
    "    'bedrooms': [2, 3, 3, 4, 4, 5, 6],\n",
    "    'bathrooms': [1, 2, 2, 3, 3, 4, 4],\n",
    "    'size_sqft': [1000, 1500, 1600, 2000, 2100, 2500, 3000],\n",
    "    'price': [200000, 250000, 270000, 320000, 340000, 400000, 500000]\n",
    "}\n",
    "df = pd.DataFrame(data)\n",
    "df"
   ]
  },
  {
   "cell_type": "code",
   "execution_count": null,
   "id": "daa559bb",
   "metadata": {},
   "outputs": [],
   "source": [
    "# 🎯 Step 3: Define Features and Target\n",
    "X = df[['bedrooms', 'bathrooms', 'size_sqft']]  # Features\n",
    "y = df['price']  # Target"
   ]
  },
  {
   "cell_type": "code",
   "execution_count": null,
   "id": "0a29a407",
   "metadata": {},
   "outputs": [],
   "source": [
    "# 🔀 Step 4: Split Data into Training and Testing Sets\n",
    "X_train, X_test, y_train, y_test = train_test_split(X, y, test_size=0.2, random_state=42)"
   ]
  },
  {
   "cell_type": "code",
   "execution_count": null,
   "id": "54ce787a",
   "metadata": {},
   "outputs": [],
   "source": [
    "# 🤖 Step 5: Train the Linear Regression Model\n",
    "model = LinearRegression()\n",
    "model.fit(X_train, y_train)"
   ]
  },
  {
   "cell_type": "code",
   "execution_count": null,
   "id": "e52aeae5",
   "metadata": {},
   "outputs": [],
   "source": [
    "# 🔍 Step 6: Make Predictions\n",
    "predictions = model.predict(X_test)\n",
    "print(\"Predicted Prices:\", predictions)\n",
    "print(\"Actual Prices:\", y_test.values)"
   ]
  },
  {
   "cell_type": "code",
   "execution_count": null,
   "id": "feb78de5",
   "metadata": {},
   "outputs": [],
   "source": [
    "# 📉 Step 7: Evaluate the Model\n",
    "mse = mean_squared_error(y_test, predictions)\n",
    "print(\"Mean Squared Error:\", mse)"
   ]
  },
  {
   "cell_type": "code",
   "execution_count": null,
   "id": "93981eb7",
   "metadata": {},
   "outputs": [],
   "source": [
    "# 📊 Step 8: Visualize Actual vs Predicted Prices\n",
    "plt.figure(figsize=(6, 4))\n",
    "plt.scatter(y_test, predictions)\n",
    "plt.xlabel(\"Actual Prices\")\n",
    "plt.ylabel(\"Predicted Prices\")\n",
    "plt.title(\"Actual vs Predicted House Prices\")\n",
    "plt.grid(True)\n",
    "plt.tight_layout()\n",
    "plt.show()"
   ]
  }
 ],
 "metadata": {},
 "nbformat": 4,
 "nbformat_minor": 5
}