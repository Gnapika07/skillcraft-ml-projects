{
 "cells": [
  {
   "cell_type": "markdown",
   "id": "d8bc019a",
   "metadata": {},
   "source": [
    "# 🐶🐱 Task 3: Image Classification of Cats and Dogs using SVM\n",
    "\n",
    "In this project, we simulate classifying images of cats and dogs using Support Vector Machine (SVM). We use synthetic data to represent image features."
   ]
  },
  {
   "cell_type": "code",
   "execution_count": null,
   "id": "297b57ee",
   "metadata": {},
   "outputs": [],
   "source": [
    "# 📦 Step 1: Import Required Libraries\n",
    "import pandas as pd\n",
    "import numpy as np\n",
    "import matplotlib.pyplot as plt\n",
    "from sklearn.model_selection import train_test_split\n",
    "from sklearn.svm import SVC\n",
    "from sklearn.metrics import classification_report, accuracy_score\n",
    "import seaborn as sns"
   ]
  },
  {
   "cell_type": "code",
   "execution_count": null,
   "id": "c61f0535",
   "metadata": {},
   "outputs": [],
   "source": [
    "# 🧪 Step 2: Create Synthetic Feature Dataset\n",
    "# Let's simulate features like 'Ear Size', 'Fur Length', 'Tail Length'\n",
    "\n",
    "np.random.seed(0)\n",
    "n_samples = 50\n",
    "\n",
    "# Cat features\n",
    "cats = pd.DataFrame({\n",
    "    'Ear Size': np.random.normal(5, 1, n_samples),\n",
    "    'Fur Length': np.random.normal(7, 1, n_samples),\n",
    "    'Tail Length': np.random.normal(6, 1, n_samples),\n",
    "    'Label': 0  # Cat\n",
    "})\n",
    "\n",
    "# Dog features\n",
    "dogs = pd.DataFrame({\n",
    "    'Ear Size': np.random.normal(8, 1, n_samples),\n",
    "    'Fur Length': np.random.normal(4, 1, n_samples),\n",
    "    'Tail Length': np.random.normal(9, 1, n_samples),\n",
    "    'Label': 1  # Dog\n",
    "})\n",
    "\n",
    "# Combine into one dataset\n",
    "df = pd.concat([cats, dogs], ignore_index=True)\n",
    "df.head()"
   ]
  },
  {
   "cell_type": "code",
   "execution_count": null,
   "id": "04dd50b4",
   "metadata": {},
   "outputs": [],
   "source": [
    "# 🧹 Step 3: Prepare Data\n",
    "X = df[['Ear Size', 'Fur Length', 'Tail Length']]\n",
    "y = df['Label']\n",
    "\n",
    "X_train, X_test, y_train, y_test = train_test_split(X, y, test_size=0.3, random_state=42)"
   ]
  },
  {
   "cell_type": "code",
   "execution_count": null,
   "id": "3c5ff565",
   "metadata": {},
   "outputs": [],
   "source": [
    "# 🤖 Step 4: Train Support Vector Machine (SVM)\n",
    "svm_model = SVC(kernel='linear')\n",
    "svm_model.fit(X_train, y_train)"
   ]
  },
  {
   "cell_type": "code",
   "execution_count": null,
   "id": "be6ba18c",
   "metadata": {},
   "outputs": [],
   "source": [
    "# 📈 Step 5: Evaluate the Model\n",
    "y_pred = svm_model.predict(X_test)\n",
    "print(\"Accuracy:\", accuracy_score(y_test, y_pred))\n",
    "print(\"\\nClassification Report:\\n\", classification_report(y_test, y_pred))"
   ]
  },
  {
   "cell_type": "code",
   "execution_count": null,
   "id": "07ed520f",
   "metadata": {},
   "outputs": [],
   "source": [
    "# 📊 Step 6: Visualize Prediction Results\n",
    "df_test = X_test.copy()\n",
    "df_test['Actual'] = y_test\n",
    "df_test['Predicted'] = y_pred\n",
    "\n",
    "sns.scatterplot(data=df_test, x='Ear Size', y='Tail Length', hue='Predicted', style='Actual', palette='Set2', s=100)\n",
    "plt.title(\"SVM Classification of Cats vs Dogs\")\n",
    "plt.xlabel(\"Ear Size\")\n",
    "plt.ylabel(\"Tail Length\")\n",
    "plt.grid(True)\n",
    "plt.show()"
   ]
  }
 ],
 "metadata": {},
 "nbformat": 4,
 "nbformat_minor": 5
}